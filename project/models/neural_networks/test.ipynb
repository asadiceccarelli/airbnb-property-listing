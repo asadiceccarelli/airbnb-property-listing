{
 "cells": [
  {
   "cell_type": "code",
   "execution_count": 115,
   "metadata": {},
   "outputs": [
    {
     "data": {
      "text/plain": [
       "['../../../project/models/neural_networks/regression/trains/2022-10-13_17:28:45',\n",
       " '../../../project/models/neural_networks/regression/trains/2022-10-13_17:24:24',\n",
       " '../../../project/models/neural_networks/regression/trains/2022-10-13_17:24:41',\n",
       " '../../../project/models/neural_networks/regression/trains/2022-10-13_17:23:56',\n",
       " '../../../project/models/neural_networks/regression/trains/2022-10-13_17:24:13',\n",
       " '../../../project/models/neural_networks/regression/trains/2022-10-13_17:27:34',\n",
       " '../../../project/models/neural_networks/regression/trains/2022-10-13_17:28:28',\n",
       " '../../../project/models/neural_networks/regression/trains/2022-10-13_17:28:21',\n",
       " '../../../project/models/neural_networks/regression/trains/2022-10-13_17:27:51',\n",
       " '../../../project/models/neural_networks/regression/trains/2022-10-13_17:24:49',\n",
       " '../../../project/models/neural_networks/regression/trains/2022-10-13_17:22:32',\n",
       " '../../../project/models/neural_networks/regression/trains/2022-10-13_17:25:47',\n",
       " '../../../project/models/neural_networks/regression/trains/2022-10-13_17:26:50',\n",
       " '../../../project/models/neural_networks/regression/trains/2022-10-13_17:22:58',\n",
       " '../../../project/models/neural_networks/regression/trains/2022-10-13_17:26:59',\n",
       " '../../../project/models/neural_networks/regression/trains/2022-10-13_17:29:04',\n",
       " '../../../project/models/neural_networks/regression/trains/2022-10-13_17:25:36',\n",
       " '../../../project/models/neural_networks/regression/trains/2022-10-13_17:25:09',\n",
       " '../../../project/models/neural_networks/regression/trains/2022-10-13_17:25:00',\n",
       " '../../../project/models/neural_networks/regression/trains/2022-10-13_17:29:50',\n",
       " '../../../project/models/neural_networks/regression/trains/2022-10-13_17:30:37',\n",
       " '../../../project/models/neural_networks/regression/trains/2022-10-13_17:30:01',\n",
       " '../../../project/models/neural_networks/regression/trains/2022-10-13_17:27:42',\n",
       " '../../../project/models/neural_networks/regression/trains/2022-10-13_17:23:21',\n",
       " '../../../project/models/neural_networks/regression/trains/2022-10-13_17:24:31',\n",
       " '../../../project/models/neural_networks/regression/trains/2022-10-13_17:28:33',\n",
       " '../../../project/models/neural_networks/regression/trains/2022-10-13_17:27:26',\n",
       " '../../../project/models/neural_networks/regression/trains/2022-10-13_17:23:29',\n",
       " '../../../project/models/neural_networks/regression/trains/2022-10-13_17:27:19',\n",
       " '../../../project/models/neural_networks/regression/trains/2022-10-13_17:30:53',\n",
       " '../../../project/models/neural_networks/regression/trains/2022-10-13_17:28:15',\n",
       " '../../../project/models/neural_networks/regression/trains/2022-10-13_17:27:09',\n",
       " '../../../project/models/neural_networks/regression/trains/2022-10-13_17:23:06',\n",
       " '../../../project/models/neural_networks/regression/trains/2022-10-13_17:30:44',\n",
       " '../../../project/models/neural_networks/regression/trains/2022-10-13_17:30:27',\n",
       " '../../../project/models/neural_networks/regression/trains/2022-10-13_17:30:18',\n",
       " '../../../project/models/neural_networks/regression/trains/2022-10-13_17:30:11',\n",
       " '../../../project/models/neural_networks/regression/trains/2022-10-13_17:23:38',\n",
       " '../../../project/models/neural_networks/regression/trains/2022-10-13_17:29:13',\n",
       " '../../../project/models/neural_networks/regression/trains/2022-10-13_17:26:01',\n",
       " '../../../project/models/neural_networks/regression/trains/2022-10-13_17:26:39',\n",
       " '../../../project/models/neural_networks/regression/trains/2022-10-13_17:25:28',\n",
       " '../../../project/models/neural_networks/regression/trains/2022-10-13_17:29:24',\n",
       " '../../../project/models/neural_networks/regression/trains/2022-10-13_17:26:31',\n",
       " '../../../project/models/neural_networks/regression/trains/2022-10-13_17:25:18',\n",
       " '../../../project/models/neural_networks/regression/trains/2022-10-13_17:26:22',\n",
       " '../../../project/models/neural_networks/regression/trains/2022-10-13_17:26:12',\n",
       " '../../../project/models/neural_networks/regression/trains/2022-10-13_17:29:38',\n",
       " '../../../project/models/neural_networks/regression/trains/2022-10-13_17:22:40',\n",
       " '../../../project/models/neural_networks/regression/trains/2022-10-13_17:22:49',\n",
       " '../../../project/models/neural_networks/regression/trains/2022-10-13_17:23:14',\n",
       " '../../../project/models/neural_networks/regression/trains/2022-10-13_17:24:04',\n",
       " '../../../project/models/neural_networks/regression/trains/2022-10-13_17:28:52',\n",
       " '../../../project/models/neural_networks/regression/trains/2022-10-13_17:28:08',\n",
       " '../../../project/models/neural_networks/regression/trains/2022-10-13_17:23:48',\n",
       " '../../../project/models/neural_networks/regression/trains/2022-10-13_17:28:39',\n",
       " '../../../project/models/neural_networks/regression/trains/2022-10-13_17:28:01']"
      ]
     },
     "execution_count": 115,
     "metadata": {},
     "output_type": "execute_result"
    }
   ],
   "source": [
    "import glob\n",
    "import json\n",
    "\n",
    "paths = glob.glob('../../../project/models/neural_networks/regression/trains/*')\n",
    "paths"
   ]
  },
  {
   "cell_type": "code",
   "execution_count": 127,
   "metadata": {},
   "outputs": [
    {
     "ename": "JSONDecodeError",
     "evalue": "Expecting value: line 1 column 1 (char 0)",
     "output_type": "error",
     "traceback": [
      "\u001b[0;31m---------------------------------------------------------------------------\u001b[0m",
      "\u001b[0;31mJSONDecodeError\u001b[0m                           Traceback (most recent call last)",
      "Cell \u001b[0;32mIn [127], line 5\u001b[0m\n\u001b[1;32m      3\u001b[0m     name \u001b[39m=\u001b[39m path\u001b[39m.\u001b[39msplit(\u001b[39m'\u001b[39m\u001b[39m/\u001b[39m\u001b[39m'\u001b[39m)[\u001b[39m-\u001b[39m\u001b[39m1\u001b[39m]\n\u001b[1;32m      4\u001b[0m     \u001b[39mwith\u001b[39;00m \u001b[39mopen\u001b[39m(\u001b[39mf\u001b[39m\u001b[39m'\u001b[39m\u001b[39m{\u001b[39;00mpath\u001b[39m}\u001b[39;00m\u001b[39m/metrics.json\u001b[39m\u001b[39m'\u001b[39m) \u001b[39mas\u001b[39;00m file:\n\u001b[0;32m----> 5\u001b[0m         validation_rmse_dict[name] \u001b[39m=\u001b[39m json\u001b[39m.\u001b[39mload(file)\n\u001b[1;32m      7\u001b[0m \u001b[39mprint\u001b[39m(validation_rmse_dict)\n",
      "File \u001b[0;32m/Library/Frameworks/Python.framework/Versions/3.10/lib/python3.10/json/__init__.py:293\u001b[0m, in \u001b[0;36mload\u001b[0;34m(fp, cls, object_hook, parse_float, parse_int, parse_constant, object_pairs_hook, **kw)\u001b[0m\n\u001b[1;32m    274\u001b[0m \u001b[39mdef\u001b[39;00m \u001b[39mload\u001b[39m(fp, \u001b[39m*\u001b[39m, \u001b[39mcls\u001b[39m\u001b[39m=\u001b[39m\u001b[39mNone\u001b[39;00m, object_hook\u001b[39m=\u001b[39m\u001b[39mNone\u001b[39;00m, parse_float\u001b[39m=\u001b[39m\u001b[39mNone\u001b[39;00m,\n\u001b[1;32m    275\u001b[0m         parse_int\u001b[39m=\u001b[39m\u001b[39mNone\u001b[39;00m, parse_constant\u001b[39m=\u001b[39m\u001b[39mNone\u001b[39;00m, object_pairs_hook\u001b[39m=\u001b[39m\u001b[39mNone\u001b[39;00m, \u001b[39m*\u001b[39m\u001b[39m*\u001b[39mkw):\n\u001b[1;32m    276\u001b[0m     \u001b[39m\"\"\"Deserialize ``fp`` (a ``.read()``-supporting file-like object containing\u001b[39;00m\n\u001b[1;32m    277\u001b[0m \u001b[39m    a JSON document) to a Python object.\u001b[39;00m\n\u001b[1;32m    278\u001b[0m \n\u001b[0;32m   (...)\u001b[0m\n\u001b[1;32m    291\u001b[0m \u001b[39m    kwarg; otherwise ``JSONDecoder`` is used.\u001b[39;00m\n\u001b[1;32m    292\u001b[0m \u001b[39m    \"\"\"\u001b[39;00m\n\u001b[0;32m--> 293\u001b[0m     \u001b[39mreturn\u001b[39;00m loads(fp\u001b[39m.\u001b[39;49mread(),\n\u001b[1;32m    294\u001b[0m         \u001b[39mcls\u001b[39;49m\u001b[39m=\u001b[39;49m\u001b[39mcls\u001b[39;49m, object_hook\u001b[39m=\u001b[39;49mobject_hook,\n\u001b[1;32m    295\u001b[0m         parse_float\u001b[39m=\u001b[39;49mparse_float, parse_int\u001b[39m=\u001b[39;49mparse_int,\n\u001b[1;32m    296\u001b[0m         parse_constant\u001b[39m=\u001b[39;49mparse_constant, object_pairs_hook\u001b[39m=\u001b[39;49mobject_pairs_hook, \u001b[39m*\u001b[39;49m\u001b[39m*\u001b[39;49mkw)\n",
      "File \u001b[0;32m/Library/Frameworks/Python.framework/Versions/3.10/lib/python3.10/json/__init__.py:346\u001b[0m, in \u001b[0;36mloads\u001b[0;34m(s, cls, object_hook, parse_float, parse_int, parse_constant, object_pairs_hook, **kw)\u001b[0m\n\u001b[1;32m    341\u001b[0m     s \u001b[39m=\u001b[39m s\u001b[39m.\u001b[39mdecode(detect_encoding(s), \u001b[39m'\u001b[39m\u001b[39msurrogatepass\u001b[39m\u001b[39m'\u001b[39m)\n\u001b[1;32m    343\u001b[0m \u001b[39mif\u001b[39;00m (\u001b[39mcls\u001b[39m \u001b[39mis\u001b[39;00m \u001b[39mNone\u001b[39;00m \u001b[39mand\u001b[39;00m object_hook \u001b[39mis\u001b[39;00m \u001b[39mNone\u001b[39;00m \u001b[39mand\u001b[39;00m\n\u001b[1;32m    344\u001b[0m         parse_int \u001b[39mis\u001b[39;00m \u001b[39mNone\u001b[39;00m \u001b[39mand\u001b[39;00m parse_float \u001b[39mis\u001b[39;00m \u001b[39mNone\u001b[39;00m \u001b[39mand\u001b[39;00m\n\u001b[1;32m    345\u001b[0m         parse_constant \u001b[39mis\u001b[39;00m \u001b[39mNone\u001b[39;00m \u001b[39mand\u001b[39;00m object_pairs_hook \u001b[39mis\u001b[39;00m \u001b[39mNone\u001b[39;00m \u001b[39mand\u001b[39;00m \u001b[39mnot\u001b[39;00m kw):\n\u001b[0;32m--> 346\u001b[0m     \u001b[39mreturn\u001b[39;00m _default_decoder\u001b[39m.\u001b[39;49mdecode(s)\n\u001b[1;32m    347\u001b[0m \u001b[39mif\u001b[39;00m \u001b[39mcls\u001b[39m \u001b[39mis\u001b[39;00m \u001b[39mNone\u001b[39;00m:\n\u001b[1;32m    348\u001b[0m     \u001b[39mcls\u001b[39m \u001b[39m=\u001b[39m JSONDecoder\n",
      "File \u001b[0;32m/Library/Frameworks/Python.framework/Versions/3.10/lib/python3.10/json/decoder.py:337\u001b[0m, in \u001b[0;36mJSONDecoder.decode\u001b[0;34m(self, s, _w)\u001b[0m\n\u001b[1;32m    332\u001b[0m \u001b[39mdef\u001b[39;00m \u001b[39mdecode\u001b[39m(\u001b[39mself\u001b[39m, s, _w\u001b[39m=\u001b[39mWHITESPACE\u001b[39m.\u001b[39mmatch):\n\u001b[1;32m    333\u001b[0m     \u001b[39m\"\"\"Return the Python representation of ``s`` (a ``str`` instance\u001b[39;00m\n\u001b[1;32m    334\u001b[0m \u001b[39m    containing a JSON document).\u001b[39;00m\n\u001b[1;32m    335\u001b[0m \n\u001b[1;32m    336\u001b[0m \u001b[39m    \"\"\"\u001b[39;00m\n\u001b[0;32m--> 337\u001b[0m     obj, end \u001b[39m=\u001b[39m \u001b[39mself\u001b[39;49m\u001b[39m.\u001b[39;49mraw_decode(s, idx\u001b[39m=\u001b[39;49m_w(s, \u001b[39m0\u001b[39;49m)\u001b[39m.\u001b[39;49mend())\n\u001b[1;32m    338\u001b[0m     end \u001b[39m=\u001b[39m _w(s, end)\u001b[39m.\u001b[39mend()\n\u001b[1;32m    339\u001b[0m     \u001b[39mif\u001b[39;00m end \u001b[39m!=\u001b[39m \u001b[39mlen\u001b[39m(s):\n",
      "File \u001b[0;32m/Library/Frameworks/Python.framework/Versions/3.10/lib/python3.10/json/decoder.py:355\u001b[0m, in \u001b[0;36mJSONDecoder.raw_decode\u001b[0;34m(self, s, idx)\u001b[0m\n\u001b[1;32m    353\u001b[0m     obj, end \u001b[39m=\u001b[39m \u001b[39mself\u001b[39m\u001b[39m.\u001b[39mscan_once(s, idx)\n\u001b[1;32m    354\u001b[0m \u001b[39mexcept\u001b[39;00m \u001b[39mStopIteration\u001b[39;00m \u001b[39mas\u001b[39;00m err:\n\u001b[0;32m--> 355\u001b[0m     \u001b[39mraise\u001b[39;00m JSONDecodeError(\u001b[39m\"\u001b[39m\u001b[39mExpecting value\u001b[39m\u001b[39m\"\u001b[39m, s, err\u001b[39m.\u001b[39mvalue) \u001b[39mfrom\u001b[39;00m \u001b[39mNone\u001b[39m\n\u001b[1;32m    356\u001b[0m \u001b[39mreturn\u001b[39;00m obj, end\n",
      "\u001b[0;31mJSONDecodeError\u001b[0m: Expecting value: line 1 column 1 (char 0)"
     ]
    }
   ],
   "source": [
    "validation_rmse_dict = {}\n",
    "for path in paths:\n",
    "    name = path.split('/')[-1]\n",
    "    with open(f'{path}/metrics.json', 'r') as file:\n",
    "        validation_rmse_dict[name] = json.load(file)\n",
    "    \n",
    "print(validation_rmse_dict)\n",
    "\n",
    "# print(min(validation_rmse_dict, key=validation_rmse_dict.get))"
   ]
  }
 ],
 "metadata": {
  "kernelspec": {
   "display_name": "Python 3.10.4 64-bit",
   "language": "python",
   "name": "python3"
  },
  "language_info": {
   "codemirror_mode": {
    "name": "ipython",
    "version": 3
   },
   "file_extension": ".py",
   "mimetype": "text/x-python",
   "name": "python",
   "nbconvert_exporter": "python",
   "pygments_lexer": "ipython3",
   "version": "3.10.4"
  },
  "orig_nbformat": 4,
  "vscode": {
   "interpreter": {
    "hash": "aee8b7b246df8f9039afb4144a1f6fd8d2ca17a180786b69acc140d282b71a49"
   }
  }
 },
 "nbformat": 4,
 "nbformat_minor": 2
}
