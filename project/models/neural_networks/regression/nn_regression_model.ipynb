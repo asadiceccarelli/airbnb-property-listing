{
 "cells": [
  {
   "cell_type": "markdown",
   "metadata": {},
   "source": [
    "# Feed forward neural network to predict price per night"
   ]
  },
  {
   "cell_type": "code",
   "execution_count": 7,
   "metadata": {},
   "outputs": [],
   "source": [
    "import json\n",
    "import yaml\n",
    "import torch\n",
    "import torch.nn as nn"
   ]
  },
  {
   "cell_type": "markdown",
   "metadata": {},
   "source": [
    "### Load best model"
   ]
  },
  {
   "cell_type": "code",
   "execution_count": 9,
   "metadata": {},
   "outputs": [
    {
     "data": {
      "text/plain": [
       "{'hidden_dim_array': [6, 2],\n",
       " 'learning_rate': 1e-05,\n",
       " 'optimiser': torch.optim.sgd.SGD}"
      ]
     },
     "execution_count": 9,
     "metadata": {},
     "output_type": "execute_result"
    }
   ],
   "source": [
    "class FeedforwardNeuralNetModel(nn.Module):\n",
    "    # Initialize the layers\n",
    "    def __init__(self, input_dim, hidden_dim_array, output_dim):\n",
    "        super(FeedforwardNeuralNetModel, self).__init__()\n",
    "        self.hidden_dim_array = hidden_dim_array\n",
    "        self.layers = nn.ModuleList()\n",
    "        for i in range(len(hidden_dim_array)):\n",
    "            self.layers.append(nn.Linear(input_dim, hidden_dim_array[i]))\n",
    "            input_dim = hidden_dim_array[i]  # For the next layer\n",
    "            self.layers.append(nn.ReLU())  # Activation function\n",
    "        self.layers.append(nn.Linear(input_dim, output_dim))\n",
    "    \n",
    "    # Perform the computation\n",
    "    def forward(self, x):\n",
    "        output = x\n",
    "        for layer in self.layers:\n",
    "            output = layer(output)\n",
    "        return output\n",
    "\n",
    "model = torch.load('trains/2022-10-13_18:56:00/model.pt')\n",
    "with open('trains/2022-10-13_18:56:00/hyperparameters.yml', 'r') as file:\n",
    "    params = yaml.load(file, Loader=yaml.Loader)\n",
    "params"
   ]
  }
 ],
 "metadata": {
  "kernelspec": {
   "display_name": "Python 3.10.4 64-bit",
   "language": "python",
   "name": "python3"
  },
  "language_info": {
   "codemirror_mode": {
    "name": "ipython",
    "version": 3
   },
   "file_extension": ".py",
   "mimetype": "text/x-python",
   "name": "python",
   "nbconvert_exporter": "python",
   "pygments_lexer": "ipython3",
   "version": "3.10.4"
  },
  "orig_nbformat": 4,
  "vscode": {
   "interpreter": {
    "hash": "aee8b7b246df8f9039afb4144a1f6fd8d2ca17a180786b69acc140d282b71a49"
   }
  }
 },
 "nbformat": 4,
 "nbformat_minor": 2
}
