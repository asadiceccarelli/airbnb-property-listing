{
 "cells": [
  {
   "cell_type": "code",
   "execution_count": null,
   "metadata": {},
   "outputs": [],
   "source": [
    "def compare_rmse():\n",
    "    \"\"\"Plots a bar chart to compare validation RMSE of regression\n",
    "    models trained.\n",
    "    \"\"\"\n",
    "    logging.info('Plotting graphs...')\n",
    "    paths = glob.glob('project/models/regression_models/*/metrics.json')\n",
    "    rmse = {}\n",
    "    for path in paths:\n",
    "        model = path.split('/')[-2]\n",
    "        metrics = json.load(open(path, 'r'))\n",
    "        rmse[model] = metrics['Validation RMSE']\n",
    "\n",
    "    fig = px.bar(\n",
    "        x=rmse.values(),\n",
    "        y=rmse.keys(),\n",
    "        labels={'x': 'Validation set RMSE', 'y': 'Regression model', 'color': 'RMSE'},\n",
    "        title='Comparing the Root Mean Squared Error (RMSE) of different models',\n",
    "        color=rmse.values(),\n",
    "        color_continuous_scale='solar_r'\n",
    "        )\n",
    "    fig.update_layout(template='plotly_dark', yaxis={'categoryorder': 'total descending'})\n",
    "    fig.update_xaxes(range=[95, 110])\n",
    "    fig.write_image('README-images/regression-rmse.png', scale=20)"
   ]
  }
 ],
 "metadata": {
  "kernelspec": {
   "display_name": "Python 3.10.4 64-bit",
   "language": "python",
   "name": "python3"
  },
  "language_info": {
   "name": "python",
   "version": "3.10.4"
  },
  "orig_nbformat": 4,
  "vscode": {
   "interpreter": {
    "hash": "aee8b7b246df8f9039afb4144a1f6fd8d2ca17a180786b69acc140d282b71a49"
   }
  }
 },
 "nbformat": 4,
 "nbformat_minor": 2
}
